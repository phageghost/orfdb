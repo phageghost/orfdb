{
 "cells": [
  {
   "cell_type": "code",
   "execution_count": 32,
   "id": "fa5776ee-195f-4bbb-a4f8-a102f93915a7",
   "metadata": {},
   "outputs": [],
   "source": [
    "import os\n",
    "import gzip\n",
    "\n",
    "import numpy as np\n",
    "import pandas as pd\n",
    "import matplotlib.pyplot as plt\n",
    "import seaborn\n",
    "import tqdm.notebook as tqdm"
   ]
  },
  {
   "cell_type": "code",
   "execution_count": 22,
   "id": "0c642990-9ce6-4353-9a82-5d0a01f9d46f",
   "metadata": {},
   "outputs": [],
   "source": [
    "from orfdb.bigprot import gff_tools, constants"
   ]
  },
  {
   "cell_type": "code",
   "execution_count": 26,
   "id": "7f29f1b2-41bc-4f9f-b971-d93cac393b7a",
   "metadata": {},
   "outputs": [],
   "source": [
    "gencode_gff_fpath = '/Users/dylanskola/temp/data/gencode.v47.chr_patch_hapl_scaff.annotation.gff3.gz'\n",
    "small_gff_fpath = '/Users/dylanskola/temp/data/gencode_small.gff.gz'"
   ]
  },
  {
   "cell_type": "code",
   "execution_count": 38,
   "id": "a966f3bb-098a-447a-be8b-7fe9ae11cf66",
   "metadata": {},
   "outputs": [
    {
     "ename": "NameError",
     "evalue": "name 'gff_df' is not defined",
     "output_type": "error",
     "traceback": [
      "\u001b[31m---------------------------------------------------------------------------\u001b[39m",
      "\u001b[31mNameError\u001b[39m                                 Traceback (most recent call last)",
      "\u001b[36mCell\u001b[39m\u001b[36m \u001b[39m\u001b[32mIn[38]\u001b[39m\u001b[32m, line 1\u001b[39m\n\u001b[32m----> \u001b[39m\u001b[32m1\u001b[39m \u001b[43mgff_df\u001b[49m\n",
      "\u001b[31mNameError\u001b[39m: name 'gff_df' is not defined"
     ]
    }
   ],
   "source": [
    "gff_df"
   ]
  },
  {
   "cell_type": "code",
   "execution_count": 36,
   "id": "fb0fdb65-977e-4864-9861-d54fe555fe99",
   "metadata": {},
   "outputs": [],
   "source": [
    "def load_gff(gff_fpath: str) -> pd.DataFrame:\n",
    "    \"\"\"\n",
    "    Loads a GFF file into a pandas DataFrame.\n",
    "\n",
    "    Args:\n",
    "        gff_fpath (str): The file path to the GFF file.\n",
    "\n",
    "    Returns:\n",
    "        pd.DataFrame: The loaded GFF data as a pandas DataFrame.\n",
    "    \"\"\"\n",
    "    gff_df = pd.read_csv(gff_fpath, sep='\\t', comment='#',\n",
    "                         header=None, names=constants.GFF_FIELDS, compression='gzip')\n",
    "\n",
    "    parsed_attributes = []\n",
    "    for entry in tqdm(gff_df.attributes):\n",
    "        splat = entry.split(';')\n",
    "\n",
    "        attrs = dict([element.split('=') for element in splat])\n",
    "        parsed_attributes.append(attrs)\n",
    "    return gff_df\n",
    "    gff_df['attributes'] = parsed_attributes\n",
    "    return gff_df"
   ]
  },
  {
   "cell_type": "code",
   "execution_count": 37,
   "id": "30320ec8-9821-4ddb-afa6-a99d54278c59",
   "metadata": {},
   "outputs": [
    {
     "ename": "AttributeError",
     "evalue": "'DataFrame' object has no attribute 'attributes'",
     "output_type": "error",
     "traceback": [
      "\u001b[31m---------------------------------------------------------------------------\u001b[39m",
      "\u001b[31mAttributeError\u001b[39m                            Traceback (most recent call last)",
      "\u001b[32m/var/folders/6p/1_q17cfs2rxfmd4h3jrbgj440000gn/T/ipykernel_73881/3725534553.py\u001b[39m in \u001b[36m?\u001b[39m\u001b[34m()\u001b[39m\n\u001b[32m----> \u001b[39m\u001b[32m1\u001b[39m load_gff(small_gff_fpath)\n",
      "\u001b[32m/var/folders/6p/1_q17cfs2rxfmd4h3jrbgj440000gn/T/ipykernel_73881/2219528581.py\u001b[39m in \u001b[36m?\u001b[39m\u001b[34m(gff_fpath)\u001b[39m\n\u001b[32m     11\u001b[39m     gff_df = pd.read_csv(gff_fpath, sep='\\t', comment='#',\n\u001b[32m     12\u001b[39m                          header=\u001b[38;5;28;01mNone\u001b[39;00m, names=constants.GFF_FIELDS, compression=\u001b[33m'gzip'\u001b[39m)\n\u001b[32m     13\u001b[39m \n\u001b[32m     14\u001b[39m     parsed_attributes = []\n\u001b[32m---> \u001b[39m\u001b[32m15\u001b[39m     \u001b[38;5;28;01mfor\u001b[39;00m entry \u001b[38;5;28;01min\u001b[39;00m tqdm(gff_df.attributes):\n\u001b[32m     16\u001b[39m         splat = entry.split(\u001b[33m';'\u001b[39m)\n\u001b[32m     17\u001b[39m \n\u001b[32m     18\u001b[39m         attrs = dict([element.split(\u001b[33m'='\u001b[39m) \u001b[38;5;28;01mfor\u001b[39;00m element \u001b[38;5;28;01min\u001b[39;00m splat])\n",
      "\u001b[32m~/micromamba/envs/orfdb/lib/python3.13/site-packages/pandas/core/generic.py\u001b[39m in \u001b[36m?\u001b[39m\u001b[34m(self, name)\u001b[39m\n\u001b[32m   6314\u001b[39m             \u001b[38;5;28;01mand\u001b[39;00m name \u001b[38;5;28;01mnot\u001b[39;00m \u001b[38;5;28;01min\u001b[39;00m self._accessors\n\u001b[32m   6315\u001b[39m             \u001b[38;5;28;01mand\u001b[39;00m self._info_axis._can_hold_identifiers_and_holds_name(name)\n\u001b[32m   6316\u001b[39m         ):\n\u001b[32m   6317\u001b[39m             \u001b[38;5;28;01mreturn\u001b[39;00m self[name]\n\u001b[32m-> \u001b[39m\u001b[32m6318\u001b[39m         \u001b[38;5;28;01mreturn\u001b[39;00m object.__getattribute__(self, name)\n",
      "\u001b[31mAttributeError\u001b[39m: 'DataFrame' object has no attribute 'attributes'"
     ]
    }
   ],
   "source": [
    "load_gff(small_gff_fpath)"
   ]
  },
  {
   "cell_type": "code",
   "execution_count": null,
   "id": "fb8d42fc-4ac4-4c86-bcfe-5e1632337b50",
   "metadata": {},
   "outputs": [],
   "source": []
  },
  {
   "cell_type": "code",
   "execution_count": null,
   "id": "bc761d16-1990-42a1-b6b1-569063e885df",
   "metadata": {},
   "outputs": [],
   "source": []
  },
  {
   "cell_type": "code",
   "execution_count": 29,
   "id": "09e1c1f4-8964-4962-aeb1-51b5c828bb13",
   "metadata": {},
   "outputs": [],
   "source": [
    "x = pd.DataFrame()\n",
    "x['test'] = []"
   ]
  },
  {
   "cell_type": "code",
   "execution_count": 27,
   "id": "be42a2cf-d4f5-452e-9918-d72922ed5849",
   "metadata": {},
   "outputs": [
    {
     "ename": "AttributeError",
     "evalue": "'DataFrame' object has no attribute 'attributes'",
     "output_type": "error",
     "traceback": [
      "\u001b[31m---------------------------------------------------------------------------\u001b[39m",
      "\u001b[31mAttributeError\u001b[39m                            Traceback (most recent call last)",
      "\u001b[32m/var/folders/6p/1_q17cfs2rxfmd4h3jrbgj440000gn/T/ipykernel_73881/2631727900.py\u001b[39m in \u001b[36m?\u001b[39m\u001b[34m()\u001b[39m\n\u001b[32m----> \u001b[39m\u001b[32m1\u001b[39m gencode_gff = gff_tools.load_gff(small_gff_fpath)\n",
      "\u001b[32m~/workspace/orfdb/orfdb/bigprot/gff_tools.py\u001b[39m in \u001b[36m?\u001b[39m\u001b[34m(gff_fpath)\u001b[39m\n\u001b[32m     44\u001b[39m     gff_df = pd.read_csv(gff_fpath, sep='\\t', comment='#',\n\u001b[32m     45\u001b[39m                          header=\u001b[38;5;28;01mNone\u001b[39;00m, names=constants.GFF_FIELDS, compression=\u001b[33m'gzip'\u001b[39m)\n\u001b[32m     46\u001b[39m \n\u001b[32m     47\u001b[39m     parsed_attributes = []\n\u001b[32m---> \u001b[39m\u001b[32m48\u001b[39m     \u001b[38;5;28;01mfor\u001b[39;00m entry \u001b[38;5;28;01min\u001b[39;00m tqdm(gff_df.attributes):\n\u001b[32m     49\u001b[39m         splat = entry.split(\u001b[33m';'\u001b[39m)\n\u001b[32m     50\u001b[39m \n\u001b[32m     51\u001b[39m         attrs = dict([element.split(\u001b[33m'='\u001b[39m) \u001b[38;5;28;01mfor\u001b[39;00m element \u001b[38;5;28;01min\u001b[39;00m splat])\n",
      "\u001b[32m~/micromamba/envs/orfdb/lib/python3.13/site-packages/pandas/core/generic.py\u001b[39m in \u001b[36m?\u001b[39m\u001b[34m(self, name)\u001b[39m\n\u001b[32m   6314\u001b[39m             \u001b[38;5;28;01mand\u001b[39;00m name \u001b[38;5;28;01mnot\u001b[39;00m \u001b[38;5;28;01min\u001b[39;00m self._accessors\n\u001b[32m   6315\u001b[39m             \u001b[38;5;28;01mand\u001b[39;00m self._info_axis._can_hold_identifiers_and_holds_name(name)\n\u001b[32m   6316\u001b[39m         ):\n\u001b[32m   6317\u001b[39m             \u001b[38;5;28;01mreturn\u001b[39;00m self[name]\n\u001b[32m-> \u001b[39m\u001b[32m6318\u001b[39m         \u001b[38;5;28;01mreturn\u001b[39;00m object.__getattribute__(self, name)\n",
      "\u001b[31mAttributeError\u001b[39m: 'DataFrame' object has no attribute 'attributes'"
     ]
    }
   ],
   "source": [
    "gencode_gff = gff_tools.load_gff(small_gff_fpath)"
   ]
  },
  {
   "cell_type": "code",
   "execution_count": 20,
   "id": "1b5d6a24-b069-429e-8588-08c474ce442f",
   "metadata": {},
   "outputs": [
    {
     "ename": "AttributeError",
     "evalue": "'DataFrame' object has no attribute 'attributes'",
     "output_type": "error",
     "traceback": [
      "\u001b[31m---------------------------------------------------------------------------\u001b[39m",
      "\u001b[31mAttributeError\u001b[39m                            Traceback (most recent call last)",
      "\u001b[32m/var/folders/6p/1_q17cfs2rxfmd4h3jrbgj440000gn/T/ipykernel_73881/3181635443.py\u001b[39m in \u001b[36m?\u001b[39m\u001b[34m()\u001b[39m\n\u001b[32m----> \u001b[39m\u001b[32m1\u001b[39m gencode_gff = gff_tools.load_gff(gencode_gff_fpath)\n",
      "\u001b[32m~/workspace/orfdb/orfdb/bigprot/gff_tools.py\u001b[39m in \u001b[36m?\u001b[39m\u001b[34m(gff_fpath)\u001b[39m\n\u001b[32m     44\u001b[39m     gff_df = pd.read_csv(gff_fpath, sep='\\t', comment='#',\n\u001b[32m     45\u001b[39m                          header=\u001b[38;5;28;01mNone\u001b[39;00m, names=constants.GFF_FIELDS, compression=\u001b[33m'gzip'\u001b[39m)\n\u001b[32m     46\u001b[39m \n\u001b[32m     47\u001b[39m     parsed_attributes = []\n\u001b[32m---> \u001b[39m\u001b[32m48\u001b[39m     \u001b[38;5;28;01mfor\u001b[39;00m entry \u001b[38;5;28;01min\u001b[39;00m tqdm(gff_df.attributes):\n\u001b[32m     49\u001b[39m         splat = entry.split(\u001b[33m';'\u001b[39m)\n\u001b[32m     50\u001b[39m \n\u001b[32m     51\u001b[39m         attrs = dict([element.split(\u001b[33m'='\u001b[39m) \u001b[38;5;28;01mfor\u001b[39;00m element \u001b[38;5;28;01min\u001b[39;00m splat])\n",
      "\u001b[32m~/micromamba/envs/orfdb/lib/python3.13/site-packages/pandas/core/generic.py\u001b[39m in \u001b[36m?\u001b[39m\u001b[34m(self, name)\u001b[39m\n\u001b[32m   6314\u001b[39m             \u001b[38;5;28;01mand\u001b[39;00m name \u001b[38;5;28;01mnot\u001b[39;00m \u001b[38;5;28;01min\u001b[39;00m self._accessors\n\u001b[32m   6315\u001b[39m             \u001b[38;5;28;01mand\u001b[39;00m self._info_axis._can_hold_identifiers_and_holds_name(name)\n\u001b[32m   6316\u001b[39m         ):\n\u001b[32m   6317\u001b[39m             \u001b[38;5;28;01mreturn\u001b[39;00m self[name]\n\u001b[32m-> \u001b[39m\u001b[32m6318\u001b[39m         \u001b[38;5;28;01mreturn\u001b[39;00m object.__getattribute__(self, name)\n",
      "\u001b[31mAttributeError\u001b[39m: 'DataFrame' object has no attribute 'attributes'"
     ]
    }
   ],
   "source": [
    "gencode_gff = gff_tools.load_gff(gencode_gff_fpath)"
   ]
  },
  {
   "cell_type": "code",
   "execution_count": 23,
   "id": "e7480688-d9e5-4177-bc17-7f54e085e49d",
   "metadata": {},
   "outputs": [
    {
     "data": {
      "text/plain": [
       "['seqname',\n",
       " 'source',\n",
       " 'feature',\n",
       " 'start',\n",
       " 'end',\n",
       " 'score',\n",
       " 'strand',\n",
       " 'frame',\n",
       " 'attribute']"
      ]
     },
     "execution_count": 23,
     "metadata": {},
     "output_type": "execute_result"
    }
   ],
   "source": [
    "gff_tools.constants.GFF_FIELDS"
   ]
  },
  {
   "cell_type": "code",
   "execution_count": null,
   "id": "d5a29ce4-1a38-4f80-9efd-5c7bec131a20",
   "metadata": {},
   "outputs": [],
   "source": []
  },
  {
   "cell_type": "code",
   "execution_count": 21,
   "id": "f824861e-f5c1-4dec-ae86-996c91fcf5e5",
   "metadata": {},
   "outputs": [
    {
     "name": "stdout",
     "output_type": "stream",
     "text": [
      "##gff-version 3\n",
      "#description: evidence-based annotation of the human genome (GRCh38), version 47 (Ensembl 113)\n",
      "#provider: GENCODE\n",
      "#contact: gencode-help@ebi.ac.uk\n",
      "#format: gff3\n",
      "#date: 2024-07-19\n",
      "##sequence-region chr1 1 248956422\n",
      "chr1\tHAVANA\tgene\t11121\t24894\t.\t+\t.\tID=ENSG00000290825.2;gene_id=ENSG00000290825.2;gene_type=lncRNA;gene_name=DDX11L16;level=2;tag=overlaps_pseudogene\n",
      "chr1\tHAVANA\ttranscript\t11121\t14413\t.\t+\t.\tID=ENST00000832824.1;Parent=ENSG00000290825.2;gene_id=ENSG00000290825.2;transcript_id=ENST00000832824.1;gene_type=lncRNA;gene_name=DDX11L16;transcript_type=lncRNA;transcript_name=DDX11L16-260;level=2;tag=TAGENE\n",
      "chr1\tHAVANA\texon\t11121\t11211\t.\t+\t.\tID=exon:ENST00000832824.1:1;Parent=ENST00000832824.1;gene_id=ENSG00000290825.2;transcript_id=ENST00000832824.1;gene_type=lncRNA;gene_name=DDX11L16;transcript_type=lncRNA;transcript_name=DDX11L16-260;exon_number=1;exon_id=ENSE00004248723.1;level=2;tag=TAGENE\n",
      "chr1\tHAVANA\texon\t12010\t12227\t.\t+\t.\tID=exon:ENST00000832824.1:2;Parent=ENST0\n"
     ]
    }
   ],
   "source": [
    "gff_head = gzip.open(gencode_gff_fpath, 'rt').read(1000)\n",
    "print(gff_head)"
   ]
  },
  {
   "cell_type": "code",
   "execution_count": 7,
   "id": "2622c127-e65c-4c73-b29c-7dceab69a56f",
   "metadata": {},
   "outputs": [
    {
     "name": "stdout",
     "output_type": "stream",
     "text": [
      "##gff-version 3\n",
      "#description: evidence-based annotation of the human genome (GRCh38), version 47 (Ensembl 113)\n",
      "#provider: GENCODE\n",
      "#contact: gencode-help@ebi.ac.uk\n",
      "#format: gff3\n",
      "#date: 2024-07-19\n",
      "##sequence-region chr1 1 248956422\n",
      "chr1\tHAVANA\tgene\t11121\t24894\t.\t+\t.\tID=ENSG00000290825.2;gene_id=ENSG00000290825.2;gene_type=lncRNA;gene_name=DDX11L16;level=2;tag=overlaps_pseudogene\n",
      "chr1\tHAVANA\ttranscript\t11121\t14413\t.\t+\t.\tID=ENST00000832824.1;Parent=ENSG00000290825.2;gene_id=ENSG00000290825.2;transcript_id=ENST00000832824.1;gene_type=lncRNA;gene_name=DDX11L16;transcript_type=lncRNA;transcript_name=DDX11L16-260;level=2;tag=TAGENE\n",
      "chr1\tHAVANA\texon\t11121\t11211\t.\t+\t.\tID=exon:ENST00000832824.1:1;Parent=ENST00000832824.1;gene_id=ENSG00000290825.2;transcript_id=ENST00000832824.1;gene_type=lncRNA;gene_name=DDX11L16;transcript_type=lncRNA;transcript_name=DDX11L16-260;exon_number=1;exon_id=ENSE00004248723.1;level=2;tag=TAGENE\n",
      "chr1\tHAVANA\texon\t12010\t12227\t.\t+\t.\tID=exon:ENST00000832824.1:2;Parent=ENST0\n"
     ]
    }
   ],
   "source": [
    "print(gff_head)"
   ]
  },
  {
   "cell_type": "code",
   "execution_count": null,
   "id": "cad6dee8-fb19-4916-bca0-135f2d6f87c7",
   "metadata": {},
   "outputs": [],
   "source": []
  }
 ],
 "metadata": {
  "kernelspec": {
   "display_name": "OrfDB",
   "language": "python",
   "name": "orfdb"
  },
  "language_info": {
   "codemirror_mode": {
    "name": "ipython",
    "version": 3
   },
   "file_extension": ".py",
   "mimetype": "text/x-python",
   "name": "python",
   "nbconvert_exporter": "python",
   "pygments_lexer": "ipython3",
   "version": "3.13.7"
  }
 },
 "nbformat": 4,
 "nbformat_minor": 5
}
