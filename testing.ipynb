{
 "cells": [
  {
   "cell_type": "code",
   "execution_count": 1,
   "id": "04c71431-b49e-4d16-93d2-ae25142de8f5",
   "metadata": {},
   "outputs": [],
   "source": [
    "import orfdb"
   ]
  },
  {
   "cell_type": "code",
   "execution_count": 2,
   "id": "4719c2f4-918b-4469-8d09-7c106ab9ea65",
   "metadata": {},
   "outputs": [
    {
     "data": {
      "text/plain": [
       "['__builtins__',\n",
       " '__cached__',\n",
       " '__doc__',\n",
       " '__file__',\n",
       " '__loader__',\n",
       " '__name__',\n",
       " '__package__',\n",
       " '__path__',\n",
       " '__spec__',\n",
       " 'annotation_loading',\n",
       " 'annotation_updates',\n",
       " 'base',\n",
       " 'bigprot',\n",
       " 'create_db',\n",
       " 'load_db',\n",
       " 'settings',\n",
       " 'util']"
      ]
     },
     "execution_count": 2,
     "metadata": {},
     "output_type": "execute_result"
    }
   ],
   "source": [
    "dir(orfdb)"
   ]
  },
  {
   "cell_type": "code",
   "execution_count": 5,
   "id": "d2c28635-0a30-4a19-81f5-c18e26113a71",
   "metadata": {},
   "outputs": [
    {
     "data": {
      "text/plain": [
       "['__builtins__',\n",
       " '__cached__',\n",
       " '__doc__',\n",
       " '__file__',\n",
       " '__loader__',\n",
       " '__name__',\n",
       " '__package__',\n",
       " '__path__',\n",
       " '__spec__',\n",
       " 'annotation',\n",
       " 'bigwig_tracks',\n",
       " 'constants',\n",
       " 'coordinates',\n",
       " 'db_utils',\n",
       " 'find_orfs',\n",
       " 'gff_tools',\n",
       " 'gwas_tools',\n",
       " 'misc',\n",
       " 'motif_tools',\n",
       " 'orf_calling',\n",
       " 'orf_classes',\n",
       " 'sequence_tools',\n",
       " 'validation']"
      ]
     },
     "execution_count": 5,
     "metadata": {},
     "output_type": "execute_result"
    }
   ],
   "source": [
    "dir(orfdb.bigprot)"
   ]
  },
  {
   "cell_type": "code",
   "execution_count": 7,
   "id": "4f17c133-c642-4795-b6e6-8c50b97ce62f",
   "metadata": {},
   "outputs": [
    {
     "name": "stderr",
     "output_type": "stream",
     "text": [
      "/Users/dylanskola/micromamba/lib/python3.13/site-packages/IPython/core/magics/execution.py:521: UserWarning: Error changing user exception modes.\n",
      "Unrecognized mode in FormattedTB: <Orfdb.load_db.load_db()>\n",
      "Valid modes: ['Plain', 'Context', 'Verbose', 'Minimal', 'Docs']\n",
      "  warn('Error changing %s exception modes.\\n%s' %\n"
     ]
    }
   ],
   "source": [
    "%tb orfdb.load_db.load_db()"
   ]
  },
  {
   "cell_type": "code",
   "execution_count": 1,
   "id": "63ba9594-9ffb-4b10-b856-b74a87529676",
   "metadata": {},
   "outputs": [
    {
     "data": {
      "text/plain": [
       "'hello'"
      ]
     },
     "execution_count": 1,
     "metadata": {},
     "output_type": "execute_result"
    }
   ],
   "source": [
    "'hello'"
   ]
  },
  {
   "cell_type": "code",
   "execution_count": null,
   "id": "f39be54c-ca6c-41a0-9840-b0efc56fc3e7",
   "metadata": {},
   "outputs": [],
   "source": []
  }
 ],
 "metadata": {
  "kernelspec": {
   "display_name": "Python 3 (ipykernel)",
   "language": "python",
   "name": "python3"
  },
  "language_info": {
   "codemirror_mode": {
    "name": "ipython",
    "version": 3
   },
   "file_extension": ".py",
   "mimetype": "text/x-python",
   "name": "python",
   "nbconvert_exporter": "python",
   "pygments_lexer": "ipython3",
   "version": "3.13.3"
  }
 },
 "nbformat": 4,
 "nbformat_minor": 5
}
