{
 "cells": [
  {
   "cell_type": "code",
   "execution_count": 1,
   "id": "7313976b-83d5-4d40-8b9b-7baf7a8696e7",
   "metadata": {},
   "outputs": [],
   "source": [
    "import datetime\n",
    "import hashlib\n",
    "import re\n",
    "import pandas as pd\n",
    "\n",
    "from pathlib import Path\n",
    "\n",
    "from orfdb import base, settings, annotation_loading\n",
    "from orfdb.base import Assembly, Gene, Transcript, TranscriptExon, Exon, Orf, SequenceRegion, Dataset,\\\n",
    "                        Cds, CdsOrf, SequenceRegionXref, OrfXref,\\\n",
    "                        TranscriptOrf, Protein\n",
    "\n",
    "from sqlalchemy import inspect, and_, update\n",
    "from sqlalchemy_batch_inserts import enable_batch_inserting\n",
    "\n",
    "pd.set_option('display.max_rows', 100)\n",
    "pd.set_option('display.max_columns', 100)"
   ]
  },
  {
   "cell_type": "code",
   "execution_count": 2,
   "id": "56c804cf-4f5a-43b0-a53b-13f456f35f87",
   "metadata": {},
   "outputs": [
    {
     "data": {
      "text/plain": [
       "'v0.9.3'"
      ]
     },
     "execution_count": 2,
     "metadata": {},
     "output_type": "execute_result"
    }
   ],
   "source": [
    "settings.bigprot_version"
   ]
  },
  {
   "cell_type": "code",
   "execution_count": null,
   "id": "16d940e8-59d8-4f84-8a57-39ed0a7a1013",
   "metadata": {},
   "outputs": [],
   "source": []
  },
  {
   "cell_type": "code",
   "execution_count": 5,
   "id": "03f72436-3498-49ee-9ed3-c6940015db8e",
   "metadata": {},
   "outputs": [],
   "source": [
    "session = base.Session()"
   ]
  },
  {
   "cell_type": "code",
   "execution_count": 6,
   "id": "9f752532-760c-4916-b758-44445ab4de96",
   "metadata": {},
   "outputs": [],
   "source": [
    "t = session.query(Transcript).first()"
   ]
  },
  {
   "cell_type": "code",
   "execution_count": 13,
   "id": "5fc918d0-c05d-4434-9723-cfea6d6a2af9",
   "metadata": {},
   "outputs": [
    {
     "data": {
      "text/plain": [
       "'CM000664.2'"
      ]
     },
     "execution_count": 13,
     "metadata": {},
     "output_type": "execute_result"
    }
   ],
   "source": [
    "a[2].genbank_accession"
   ]
  },
  {
   "cell_type": "code",
   "execution_count": 7,
   "id": "72e24922-26a1-49d3-9a47-ffe45f021763",
   "metadata": {},
   "outputs": [
    {
     "data": {
      "text/plain": [
       "'11874_14409_+_2_353;108;1188_11874;12613;13221'"
      ]
     },
     "execution_count": 7,
     "metadata": {},
     "output_type": "execute_result"
    }
   ],
   "source": [
    "t.transcript_idx_str"
   ]
  },
  {
   "cell_type": "code",
   "execution_count": 5,
   "id": "adf497cd-f9e3-42fc-9a2a-2701e3c6ed62",
   "metadata": {},
   "outputs": [],
   "source": [
    "t2 = session.query(Transcript).filter(Transcript.refseq_id != '').first()"
   ]
  },
  {
   "cell_type": "code",
   "execution_count": 6,
   "id": "bedcb745-8c9e-409a-b81a-0b03733ca0e6",
   "metadata": {},
   "outputs": [
    {
     "data": {
      "text/plain": [
       "'127588411_127591700_+_8_154;80;109;71;125;487_127588411;127589083;127589485;127590066;127590963;127591213'"
      ]
     },
     "execution_count": 6,
     "metadata": {},
     "output_type": "execute_result"
    }
   ],
   "source": [
    "t2.transcript_idx_str"
   ]
  },
  {
   "cell_type": "code",
   "execution_count": 9,
   "id": "2352c798-f4a7-415f-b557-b78d5d844544",
   "metadata": {},
   "outputs": [
    {
     "data": {
      "text/plain": [
       "[]"
      ]
     },
     "execution_count": 9,
     "metadata": {},
     "output_type": "execute_result"
    }
   ],
   "source": [
    "session.query(Transcript).filter(Transcript.transcript_idx_str == '138875400_138935034_+_6_197;93;52;92;80;152;92;156;200;151;110;181;105;134;1232_138875400;138880195;138880681;138881045;138886212;138887490;138904349;138917742;138924510;138925256;138929246;138930473;138930830;138932578;138933802').all()"
   ]
  },
  {
   "cell_type": "code",
   "execution_count": 8,
   "id": "9590e07a-f2ba-45c3-8819-2a868232f6f8",
   "metadata": {},
   "outputs": [
    {
     "data": {
      "text/plain": [
       "Transcript: (1, ENST00000000233.10, NM_001662.4)+:127588411-127591700"
      ]
     },
     "execution_count": 8,
     "metadata": {},
     "output_type": "execute_result"
    }
   ],
   "source": [
    "t2"
   ]
  },
  {
   "cell_type": "code",
   "execution_count": 16,
   "id": "3fbe1b35-e393-4c58-9ae2-943b74d1dfcf",
   "metadata": {},
   "outputs": [
    {
     "data": {
      "text/plain": [
       "444772"
      ]
     },
     "execution_count": 16,
     "metadata": {},
     "output_type": "execute_result"
    }
   ],
   "source": [
    "session.query(Transcript).count()"
   ]
  },
  {
   "cell_type": "code",
   "execution_count": null,
   "id": "59fcc960-22e9-459f-943b-7d1eb7ea688d",
   "metadata": {},
   "outputs": [],
   "source": []
  },
  {
   "cell_type": "code",
   "execution_count": 4,
   "id": "567b6a31-6819-4d94-8f8a-685f75bf8d12",
   "metadata": {},
   "outputs": [
    {
     "data": {
      "text/plain": [
       "'v0.9.3'"
      ]
     },
     "execution_count": 4,
     "metadata": {},
     "output_type": "execute_result"
    }
   ],
   "source": [
    "settings.bigprot_version"
   ]
  },
  {
   "cell_type": "code",
   "execution_count": null,
   "id": "894c2ab1-f73c-49a2-81da-2dd17e0f40ba",
   "metadata": {},
   "outputs": [],
   "source": []
  },
  {
   "cell_type": "code",
   "execution_count": 4,
   "id": "f190c4c5-df93-4b6c-ac49-c1d39fefed27",
   "metadata": {},
   "outputs": [
    {
     "name": "stdout",
     "output_type": "stream",
     "text": [
      "README.md\n",
      "orf_idx_vtx_map_240604.pkl\n",
      "\u001b[0m\u001b[01;31morfset_v0.9.2_full_minlen_15_maxlen_999999999_dashboard_orfs_with_bigprot_mapping.csv.gz\u001b[0m\u001b[K\n",
      "orfset_v0.9.3_full_minlen_15_maxlen_999999999.find_orfs.log\n",
      "\u001b[01;31morfset_v0.9.3_full_minlen_15_maxlen_999999999.find_orfs.log.gz\u001b[0m\n",
      "\u001b[01;31morfset_v0.9.3_full_minlen_15_maxlen_999999999_cds_orfs.csv.gz\u001b[0m\n",
      "\u001b[01;31morfset_v0.9.3_full_minlen_15_maxlen_999999999_orfs.csv.gz\u001b[0m\n",
      "\u001b[01;31morfset_v0.9.3_full_minlen_15_maxlen_999999999_orfs_supplemental.csv.gz\u001b[0m\n",
      "\u001b[01;31morfset_v0.9.3_full_minlen_15_maxlen_999999999_transcript_orfs.csv.gz\u001b[0m\n",
      "orfset_v0.9.3_full_minlen_15_maxlen_999999999_xrefs_exported.parquet\n"
     ]
    }
   ],
   "source": [
    "ls $settings.bigprot_directory/v0.9.3/"
   ]
  },
  {
   "cell_type": "code",
   "execution_count": 20,
   "id": "617a8cc9-1160-43d1-98b9-e699c5db8a81",
   "metadata": {},
   "outputs": [],
   "source": [
    "from pathlib import Path\n",
    "import re\n",
    "from packaging.version import Version\n",
    "\n",
    "def get_highest_version_folder(directory):\n",
    "    \"\"\"\n",
    "    Finds the folder with the highest version number in the specified directory.\n",
    "    \n",
    "    Args:\n",
    "        directory (str or Path): Path to the directory to scan.\n",
    "    \n",
    "    Returns:\n",
    "        Path or None: The folder with the highest version, or None if no valid version folders are found.\n",
    "    \"\"\"\n",
    "    directory = Path(directory)\n",
    "    if not directory.is_dir():\n",
    "        raise ValueError(f\"{directory} is not a valid directory.\")\n",
    "    \n",
    "    version_folders = {}\n",
    "    version_pattern = re.compile(r\"^v\\d+(\\.\\d+)*$\")  # Matches version-like patterns (e.g., 1.0.0)\n",
    "\n",
    "    for folder in directory.iterdir():\n",
    "        if folder.is_dir() and version_pattern.match(folder.name):\n",
    "            try:\n",
    "                version_folders[folder] = Version(folder.name)\n",
    "            except ValueError:\n",
    "                pass  # Ignore folders that don't follow proper versioning\n",
    "\n",
    "    if version_folders:\n",
    "        return max(version_folders, key=version_folders.get)\n",
    "    return None"
   ]
  },
  {
   "cell_type": "code",
   "execution_count": 21,
   "id": "8c3e2338-0c7f-454a-b36b-1b0d2445efa6",
   "metadata": {},
   "outputs": [
    {
     "name": "stdout",
     "output_type": "stream",
     "text": [
      "GCA_000001405.28_GRCh38.p13_assembly_report.txt\n",
      "Ribo-seq_ORFs.bb\n",
      "Ribo-seq_ORFs.bed\n",
      "\u001b[0m\u001b[01;31mgencode.v42.2wayconspseudos.gff3.gz\u001b[0m\n",
      "gencode.v42.chr_patch_hapl_scaff.annotation.expanded.gff3\n",
      "\u001b[01;31mgencode.v42.chr_patch_hapl_scaff.annotation.gff3.gz\u001b[0m\n",
      "\u001b[01;31mgencode.v42.long_noncoding_RNAs.expanded.gff3.gz\u001b[0m\n",
      "\u001b[01;31mgencode.v42.long_noncoding_RNAs.gff3.gz\u001b[0m\n",
      "\u001b[01;31mgencode.v42.metadata.Annotation_remark.gz\u001b[0m\n",
      "\u001b[01;31mgencode.v42.metadata.EntrezGene.gz\u001b[0m\n",
      "\u001b[01;31mgencode.v42.metadata.Exon_supporting_feature.gz\u001b[0m\n",
      "\u001b[01;31mgencode.v42.metadata.Gene_source.gz\u001b[0m\n",
      "\u001b[01;31mgencode.v42.metadata.HGNC.gz\u001b[0m\n",
      "\u001b[01;31mgencode.v42.metadata.PDB.gz\u001b[0m\n",
      "\u001b[01;31mgencode.v42.metadata.PolyA_feature.gz\u001b[0m\n",
      "\u001b[01;31mgencode.v42.metadata.Pubmed_id.gz\u001b[0m\n",
      "\u001b[01;31mgencode.v42.metadata.RefSeq.gz\u001b[0m\n",
      "\u001b[01;31mgencode.v42.metadata.SwissProt.gz\u001b[0m\n",
      "\u001b[01;31mgencode.v42.metadata.TrEMBL.gz\u001b[0m\n",
      "\u001b[01;31mgencode.v42.metadata.Transcript_source.gz\u001b[0m\n",
      "\u001b[01;31mgencode.v42.metadata.Transcript_supporting_feature.gz\u001b[0m\n",
      "\u001b[01;31mgencode.v42.polyAs.gff3.gz\u001b[0m\n",
      "\u001b[01;31mgencode.v42.tRNAs.gff3.gz\u001b[0m\n",
      "\u001b[01;31mgencode.v42.transcripts.fa.gz\u001b[0m\n"
     ]
    }
   ],
   "source": [
    "ls $settings.gencode_directory/v42"
   ]
  },
  {
   "cell_type": "code",
   "execution_count": 22,
   "id": "b78cd185-7508-4674-a86e-ae3d167847c0",
   "metadata": {},
   "outputs": [],
   "source": [
    "highest_version_folder = get_highest_version_folder(settings.bigprot_directory)"
   ]
  },
  {
   "cell_type": "code",
   "execution_count": 23,
   "id": "5f937ac7-15be-4e05-9ae8-db70a4f6c8b4",
   "metadata": {},
   "outputs": [],
   "source": [
    "version = highest_version_folder.name"
   ]
  },
  {
   "cell_type": "code",
   "execution_count": 24,
   "id": "44a0edd2-c98e-41dd-b3d1-727fa4dcc88b",
   "metadata": {},
   "outputs": [
    {
     "name": "stdout",
     "output_type": "stream",
     "text": [
      "a\n"
     ]
    }
   ],
   "source": [
    "required_files = [\n",
    "    f'orfset_{version}_full_minlen_15_maxlen_999999999_orfs.csv.gz',\n",
    "    f'orfset_{version}_full_minlen_15_maxlen_999999999_transcript_orfs.csv.gz',\n",
    "    f'orfset_{version}_full_minlen_15_maxlen_999999999_cds_orfs.csv.gz'\n",
    "]\n",
    "\n",
    "files_exist = all(\n",
    "    highest_version_folder.joinpath(filename).exists() \n",
    "    for filename in required_files\n",
    ")\n",
    "\n",
    "if files_exist:\n",
    "    print('a')"
   ]
  },
  {
   "cell_type": "code",
   "execution_count": 25,
   "id": "270de79c-5f46-4ef0-87e2-c02a065f14be",
   "metadata": {},
   "outputs": [],
   "source": [
    "tx_path = highest_version_folder.joinpath(f'orfset_{version}_full_minlen_15_maxlen_999999999_transcript_orfs.csv.gz')"
   ]
  },
  {
   "cell_type": "code",
   "execution_count": 26,
   "id": "78178987-3fae-4285-9d9d-88333fe8444d",
   "metadata": {},
   "outputs": [],
   "source": [
    "import gzip"
   ]
  },
  {
   "cell_type": "code",
   "execution_count": 28,
   "id": "f10f01df-ca3c-493f-b5f8-6d89712aa79f",
   "metadata": {},
   "outputs": [
    {
     "data": {
      "text/plain": [
       "['{}', 'big_prot', '2821298', '9_113286750_113286809_+_113286750_60', '292208']"
      ]
     },
     "execution_count": 28,
     "metadata": {},
     "output_type": "execute_result"
    }
   ],
   "source": [
    "vals"
   ]
  },
  {
   "cell_type": "code",
   "execution_count": 30,
   "id": "a6fb710b-0407-4f7e-b72c-baa68e2523c5",
   "metadata": {},
   "outputs": [
    {
     "name": "stdout",
     "output_type": "stream",
     "text": [
      "transcript_orf.transcript_id\n",
      "1\n",
      "1\n",
      "1\n",
      "1\n",
      "1\n",
      "1\n",
      "1\n",
      "1\n",
      "1\n"
     ]
    },
    {
     "ename": "KeyboardInterrupt",
     "evalue": "",
     "output_type": "error",
     "traceback": [
      "\u001b[0;31m---------------------------------------------------------------------------\u001b[0m",
      "\u001b[0;31mKeyboardInterrupt\u001b[0m                         Traceback (most recent call last)",
      "Cell \u001b[0;32mIn[30], line 4\u001b[0m\n\u001b[1;32m      1\u001b[0m transcript_ids \u001b[38;5;241m=\u001b[39m \u001b[38;5;28mset\u001b[39m()\n\u001b[1;32m      3\u001b[0m \u001b[38;5;28;01mwith\u001b[39;00m gzip\u001b[38;5;241m.\u001b[39mopen(tx_path, \u001b[38;5;124m'\u001b[39m\u001b[38;5;124mrt\u001b[39m\u001b[38;5;124m'\u001b[39m) \u001b[38;5;28;01mas\u001b[39;00m gz_file:  \u001b[38;5;66;03m# 'rt' mode is for reading text\u001b[39;00m\n\u001b[0;32m----> 4\u001b[0m     \u001b[38;5;28;01mfor\u001b[39;00m i, line \u001b[38;5;129;01min\u001b[39;00m \u001b[38;5;28menumerate\u001b[39m(gz_file):\n\u001b[1;32m      5\u001b[0m         vals \u001b[38;5;241m=\u001b[39m line\u001b[38;5;241m.\u001b[39mrstrip(\u001b[38;5;124m'\u001b[39m\u001b[38;5;130;01m\\n\u001b[39;00m\u001b[38;5;124m'\u001b[39m)\u001b[38;5;241m.\u001b[39msplit(\u001b[38;5;124m'\u001b[39m\u001b[38;5;124m,\u001b[39m\u001b[38;5;124m'\u001b[39m)\n\u001b[1;32m      6\u001b[0m         \u001b[38;5;28;01mif\u001b[39;00m i \u001b[38;5;241m<\u001b[39m \u001b[38;5;241m10\u001b[39m:\n",
      "File \u001b[0;32m~/miniconda3/envs/orfdb_env/lib/python3.12/gzip.py:337\u001b[0m, in \u001b[0;36mGzipFile.read1\u001b[0;34m(self, size)\u001b[0m\n\u001b[1;32m    335\u001b[0m \u001b[38;5;28;01mif\u001b[39;00m size \u001b[38;5;241m<\u001b[39m \u001b[38;5;241m0\u001b[39m:\n\u001b[1;32m    336\u001b[0m     size \u001b[38;5;241m=\u001b[39m io\u001b[38;5;241m.\u001b[39mDEFAULT_BUFFER_SIZE\n\u001b[0;32m--> 337\u001b[0m \u001b[38;5;28;01mreturn\u001b[39;00m \u001b[38;5;28mself\u001b[39m\u001b[38;5;241m.\u001b[39m_buffer\u001b[38;5;241m.\u001b[39mread1(size)\n",
      "File \u001b[0;32m~/miniconda3/envs/orfdb_env/lib/python3.12/_compression.py:68\u001b[0m, in \u001b[0;36mDecompressReader.readinto\u001b[0;34m(self, b)\u001b[0m\n\u001b[1;32m     66\u001b[0m \u001b[38;5;28;01mdef\u001b[39;00m \u001b[38;5;21mreadinto\u001b[39m(\u001b[38;5;28mself\u001b[39m, b):\n\u001b[1;32m     67\u001b[0m     \u001b[38;5;28;01mwith\u001b[39;00m \u001b[38;5;28mmemoryview\u001b[39m(b) \u001b[38;5;28;01mas\u001b[39;00m view, view\u001b[38;5;241m.\u001b[39mcast(\u001b[38;5;124m\"\u001b[39m\u001b[38;5;124mB\u001b[39m\u001b[38;5;124m\"\u001b[39m) \u001b[38;5;28;01mas\u001b[39;00m byte_view:\n\u001b[0;32m---> 68\u001b[0m         data \u001b[38;5;241m=\u001b[39m \u001b[38;5;28mself\u001b[39m\u001b[38;5;241m.\u001b[39mread(\u001b[38;5;28mlen\u001b[39m(byte_view))\n\u001b[1;32m     69\u001b[0m         byte_view[:\u001b[38;5;28mlen\u001b[39m(data)] \u001b[38;5;241m=\u001b[39m data\n\u001b[1;32m     70\u001b[0m     \u001b[38;5;28;01mreturn\u001b[39;00m \u001b[38;5;28mlen\u001b[39m(data)\n",
      "File \u001b[0;32m~/miniconda3/envs/orfdb_env/lib/python3.12/gzip.py:537\u001b[0m, in \u001b[0;36m_GzipReader.read\u001b[0;34m(self, size)\u001b[0m\n\u001b[1;32m    535\u001b[0m     uncompress \u001b[38;5;241m=\u001b[39m \u001b[38;5;28mself\u001b[39m\u001b[38;5;241m.\u001b[39m_decompressor\u001b[38;5;241m.\u001b[39mdecompress(buf, size)\n\u001b[1;32m    536\u001b[0m \u001b[38;5;28;01melse\u001b[39;00m:\n\u001b[0;32m--> 537\u001b[0m     uncompress \u001b[38;5;241m=\u001b[39m \u001b[38;5;28mself\u001b[39m\u001b[38;5;241m.\u001b[39m_decompressor\u001b[38;5;241m.\u001b[39mdecompress(\u001b[38;5;124mb\u001b[39m\u001b[38;5;124m\"\u001b[39m\u001b[38;5;124m\"\u001b[39m, size)\n\u001b[1;32m    539\u001b[0m \u001b[38;5;28;01mif\u001b[39;00m \u001b[38;5;28mself\u001b[39m\u001b[38;5;241m.\u001b[39m_decompressor\u001b[38;5;241m.\u001b[39munused_data \u001b[38;5;241m!=\u001b[39m \u001b[38;5;124mb\u001b[39m\u001b[38;5;124m\"\u001b[39m\u001b[38;5;124m\"\u001b[39m:\n\u001b[1;32m    540\u001b[0m     \u001b[38;5;66;03m# Prepend the already read bytes to the fileobj so they can\u001b[39;00m\n\u001b[1;32m    541\u001b[0m     \u001b[38;5;66;03m# be seen by _read_eof() and _read_gzip_header()\u001b[39;00m\n\u001b[1;32m    542\u001b[0m     \u001b[38;5;28mself\u001b[39m\u001b[38;5;241m.\u001b[39m_fp\u001b[38;5;241m.\u001b[39mprepend(\u001b[38;5;28mself\u001b[39m\u001b[38;5;241m.\u001b[39m_decompressor\u001b[38;5;241m.\u001b[39munused_data)\n",
      "\u001b[0;31mKeyboardInterrupt\u001b[0m: "
     ]
    }
   ],
   "source": [
    "transcript_ids = set()\n",
    "\n",
    "with gzip.open(tx_path, 'rt') as gz_file:  # 'rt' mode is for reading text\n",
    "    for i, line in enumerate(gz_file):\n",
    "        vals = line.rstrip('\\n').split(',')\n",
    "        if i < 10:\n",
    "            print(vals[4])\n",
    "        transcript_ids.add(vals[3])"
   ]
  },
  {
   "cell_type": "code",
   "execution_count": 36,
   "id": "eed0025f-92d8-4897-a0e7-c86273636b59",
   "metadata": {},
   "outputs": [
    {
     "data": {
      "text/plain": [
       "470515"
      ]
     },
     "execution_count": 36,
     "metadata": {},
     "output_type": "execute_result"
    }
   ],
   "source": [
    "len(transcript_ids)"
   ]
  },
  {
   "cell_type": "code",
   "execution_count": null,
   "id": "2f1e0276-6190-4472-aeda-c3170110b59e",
   "metadata": {},
   "outputs": [],
   "source": []
  }
 ],
 "metadata": {
  "kernelspec": {
   "display_name": "orfdb_env",
   "language": "python",
   "name": "orfdb_env"
  },
  "language_info": {
   "codemirror_mode": {
    "name": "ipython",
    "version": 3
   },
   "file_extension": ".py",
   "mimetype": "text/x-python",
   "name": "python",
   "nbconvert_exporter": "python",
   "pygments_lexer": "ipython3",
   "version": "3.12.8"
  }
 },
 "nbformat": 4,
 "nbformat_minor": 5
}
