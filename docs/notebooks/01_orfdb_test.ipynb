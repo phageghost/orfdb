{
 "cells": [
  {
   "cell_type": "code",
   "execution_count": 1,
   "id": "7313976b-83d5-4d40-8b9b-7baf7a8696e7",
   "metadata": {},
   "outputs": [],
   "source": [
    "import datetime\n",
    "import hashlib\n",
    "import re\n",
    "import pandas as pd\n",
    "\n",
    "from pathlib import Path\n",
    "\n",
    "from orfdb import base, settings, annotation_loading\n",
    "from orfdb.base import Assembly, Gene, Transcript, TranscriptExon, Exon, Orf, SequenceRegion, Dataset,\\\n",
    "                        Cds, CdsOrf, SequenceRegionXref, OrfXref,\\\n",
    "                        TranscriptOrf, Protein\n",
    "\n",
    "from sqlalchemy import inspect, and_, update\n",
    "from sqlalchemy_batch_inserts import enable_batch_inserting\n",
    "\n",
    "pd.set_option('display.max_rows', 100)\n",
    "pd.set_option('display.max_columns', 100)"
   ]
  },
  {
   "cell_type": "code",
   "execution_count": 2,
   "id": "03f72436-3498-49ee-9ed3-c6940015db8e",
   "metadata": {},
   "outputs": [],
   "source": [
    "session = base.Session()"
   ]
  },
  {
   "cell_type": "code",
   "execution_count": 3,
   "id": "9f752532-760c-4916-b758-44445ab4de96",
   "metadata": {},
   "outputs": [],
   "source": [
    "t = session.query(Transcript).first()"
   ]
  },
  {
   "cell_type": "code",
   "execution_count": 4,
   "id": "72e24922-26a1-49d3-9a47-ffe45f021763",
   "metadata": {},
   "outputs": [
    {
     "data": {
      "text/plain": [
       "'127588411_127591700_+_8_154;80;109;71;125;487_127588411;127589083;127589485;127590066;127590963;127591213'"
      ]
     },
     "execution_count": 4,
     "metadata": {},
     "output_type": "execute_result"
    }
   ],
   "source": [
    "t.transcript_idx_str"
   ]
  },
  {
   "cell_type": "code",
   "execution_count": 5,
   "id": "adf497cd-f9e3-42fc-9a2a-2701e3c6ed62",
   "metadata": {},
   "outputs": [],
   "source": [
    "t2 = session.query(Transcript).filter(Transcript.refseq_id != '').first()"
   ]
  },
  {
   "cell_type": "code",
   "execution_count": 6,
   "id": "bedcb745-8c9e-409a-b81a-0b03733ca0e6",
   "metadata": {},
   "outputs": [
    {
     "data": {
      "text/plain": [
       "'127588411_127591700_+_8_154;80;109;71;125;487_127588411;127589083;127589485;127590066;127590963;127591213'"
      ]
     },
     "execution_count": 6,
     "metadata": {},
     "output_type": "execute_result"
    }
   ],
   "source": [
    "t2.transcript_idx_str"
   ]
  },
  {
   "cell_type": "code",
   "execution_count": 9,
   "id": "2352c798-f4a7-415f-b557-b78d5d844544",
   "metadata": {},
   "outputs": [
    {
     "data": {
      "text/plain": [
       "[]"
      ]
     },
     "execution_count": 9,
     "metadata": {},
     "output_type": "execute_result"
    }
   ],
   "source": [
    "session.query(Transcript).filter(Transcript.transcript_idx_str == '138875400_138935034_+_6_197;93;52;92;80;152;92;156;200;151;110;181;105;134;1232_138875400;138880195;138880681;138881045;138886212;138887490;138904349;138917742;138924510;138925256;138929246;138930473;138930830;138932578;138933802').all()"
   ]
  },
  {
   "cell_type": "code",
   "execution_count": 8,
   "id": "9590e07a-f2ba-45c3-8819-2a868232f6f8",
   "metadata": {},
   "outputs": [
    {
     "data": {
      "text/plain": [
       "Transcript: (1, ENST00000000233.10, NM_001662.4)+:127588411-127591700"
      ]
     },
     "execution_count": 8,
     "metadata": {},
     "output_type": "execute_result"
    }
   ],
   "source": [
    "t2"
   ]
  },
  {
   "cell_type": "code",
   "execution_count": 16,
   "id": "3fbe1b35-e393-4c58-9ae2-943b74d1dfcf",
   "metadata": {},
   "outputs": [
    {
     "data": {
      "text/plain": [
       "444772"
      ]
     },
     "execution_count": 16,
     "metadata": {},
     "output_type": "execute_result"
    }
   ],
   "source": [
    "session.query(Transcript).count()"
   ]
  },
  {
   "cell_type": "code",
   "execution_count": null,
   "id": "59fcc960-22e9-459f-943b-7d1eb7ea688d",
   "metadata": {},
   "outputs": [],
   "source": []
  }
 ],
 "metadata": {
  "kernelspec": {
   "display_name": "orfdb_env",
   "language": "python",
   "name": "orfdb_env"
  },
  "language_info": {
   "codemirror_mode": {
    "name": "ipython",
    "version": 3
   },
   "file_extension": ".py",
   "mimetype": "text/x-python",
   "name": "python",
   "nbconvert_exporter": "python",
   "pygments_lexer": "ipython3",
   "version": "3.12.8"
  }
 },
 "nbformat": 4,
 "nbformat_minor": 5
}
