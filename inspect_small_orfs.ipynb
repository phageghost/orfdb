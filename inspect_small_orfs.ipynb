{
 "cells": [
  {
   "cell_type": "code",
   "execution_count": 1,
   "id": "4f9fc2f7-b0c5-4c6a-983a-8316a50900c3",
   "metadata": {},
   "outputs": [
    {
     "name": "stdout",
     "output_type": "stream",
     "text": [
      "orfset_bigprot_bootstrap_minlen_15_maxlen_1000_cds_orfs.csv.gz\n",
      "orfset_bigprot_bootstrap_minlen_15_maxlen_1000_orfs.csv.gz\n",
      "orfset_bigprot_bootstrap_minlen_15_maxlen_1000_transcript_orfs.csv.gz\n",
      "orfset_bigprot_bootstrap_minlen_15_maxlen_1000.find_orfs.log\n",
      "orfset_bigprot_bootstrap_minlen_15_maxlen_150_cds_orfs.csv.gz\n",
      "orfset_bigprot_bootstrap_minlen_15_maxlen_150_orfs.csv.gz\n",
      "orfset_bigprot_bootstrap_minlen_15_maxlen_150_transcript_orfs.csv.gz\n",
      "orfset_bigprot_bootstrap_minlen_15_maxlen_150.find_orfs.log\n",
      "\u001b[34mv0.0.1\u001b[m\u001b[m\n",
      "\u001b[34mv0.0.2\u001b[m\u001b[m\n",
      "\u001b[34mv0.0.3\u001b[m\u001b[m\n",
      "\u001b[34mv0.0.4\u001b[m\u001b[m\n"
     ]
    }
   ],
   "source": [
    "!ls ../data/bigprot/"
   ]
  },
  {
   "cell_type": "code",
   "execution_count": 12,
   "id": "24b50f41-ce8f-4abf-9a68-c26826ba2db9",
   "metadata": {},
   "outputs": [],
   "source": [
    "import pandas as pd\n",
    "import numpy as np\n",
    "import matplotlib.pyplot as plt\n",
    "import seaborn as sns"
   ]
  },
  {
   "cell_type": "code",
   "execution_count": 4,
   "id": "88a853f1-0722-4ccb-8058-9371b66361e4",
   "metadata": {},
   "outputs": [],
   "source": [
    "orfs_df = pd.read_csv('data/bigprot/orfset_bigprot_bootstrap_minlen_15_maxlen_150_orfs.csv.gz')"
   ]
  },
  {
   "cell_type": "code",
   "execution_count": 6,
   "id": "927b6865-4ef1-48b1-8025-ffd9f0a50a05",
   "metadata": {},
   "outputs": [
    {
     "data": {
      "text/html": [
       "<div>\n",
       "<style scoped>\n",
       "    .dataframe tbody tr th:only-of-type {\n",
       "        vertical-align: middle;\n",
       "    }\n",
       "\n",
       "    .dataframe tbody tr th {\n",
       "        vertical-align: top;\n",
       "    }\n",
       "\n",
       "    .dataframe thead th {\n",
       "        text-align: right;\n",
       "    }\n",
       "</style>\n",
       "<table border=\"1\" class=\"dataframe\">\n",
       "  <thead>\n",
       "    <tr style=\"text-align: right;\">\n",
       "      <th></th>\n",
       "      <th>orf.aa_seq</th>\n",
       "      <th>orf.assembly_id</th>\n",
       "      <th>orf.attrs</th>\n",
       "      <th>orf.benchling_id</th>\n",
       "      <th>orf.block_sizes</th>\n",
       "      <th>orf.chrom_starts</th>\n",
       "      <th>orf.end</th>\n",
       "      <th>orf.ensembl_protein_id</th>\n",
       "      <th>orf.exon_frames</th>\n",
       "      <th>orf.id</th>\n",
       "      <th>...</th>\n",
       "      <th>orf.openprot_id</th>\n",
       "      <th>orf.orf_idx</th>\n",
       "      <th>orf.orf_idx_str</th>\n",
       "      <th>orf.phases</th>\n",
       "      <th>orf.refseq_protein_id</th>\n",
       "      <th>orf.secondary_orf_id</th>\n",
       "      <th>orf.start</th>\n",
       "      <th>orf.strand</th>\n",
       "      <th>orf.uniprot_id</th>\n",
       "      <th>orf.velia_id</th>\n",
       "    </tr>\n",
       "  </thead>\n",
       "  <tbody>\n",
       "    <tr>\n",
       "      <th>0</th>\n",
       "      <td>LGTEGSTLLPAGTYGRGFLAKAPSSRGGAGIWVSFFFSVLGVL*</td>\n",
       "      <td>7</td>\n",
       "      <td>{}</td>\n",
       "      <td>NaN</td>\n",
       "      <td>132</td>\n",
       "      <td>127591480</td>\n",
       "      <td>127591611</td>\n",
       "      <td>NaN</td>\n",
       "      <td>0</td>\n",
       "      <td>1</td>\n",
       "      <td>...</td>\n",
       "      <td>NaN</td>\n",
       "      <td>19656c0da301cdbb92afccd2719021feb59d205061bada...</td>\n",
       "      <td>7_127591480_127591611_+_127591480_132</td>\n",
       "      <td>0</td>\n",
       "      <td>NaN</td>\n",
       "      <td>NaN</td>\n",
       "      <td>127591480</td>\n",
       "      <td>+</td>\n",
       "      <td>NaN</td>\n",
       "      <td>-1</td>\n",
       "    </tr>\n",
       "    <tr>\n",
       "      <th>1</th>\n",
       "      <td>MPGSSCVHPRDDQTPGLLRQCPFLPLFLPHSHRPLLLLLPACSLCC...</td>\n",
       "      <td>7</td>\n",
       "      <td>{}</td>\n",
       "      <td>NaN</td>\n",
       "      <td>291</td>\n",
       "      <td>127591321</td>\n",
       "      <td>127591611</td>\n",
       "      <td>NaN</td>\n",
       "      <td>0</td>\n",
       "      <td>2</td>\n",
       "      <td>...</td>\n",
       "      <td>NaN</td>\n",
       "      <td>f24235d57bee8193454db191a2bf8927ae9af5055c90be...</td>\n",
       "      <td>7_127591321_127591611_+_127591321_291</td>\n",
       "      <td>0</td>\n",
       "      <td>NaN</td>\n",
       "      <td>NaN</td>\n",
       "      <td>127591321</td>\n",
       "      <td>+</td>\n",
       "      <td>NaN</td>\n",
       "      <td>-1</td>\n",
       "    </tr>\n",
       "    <tr>\n",
       "      <th>2</th>\n",
       "      <td>LTDKLGLQHLRSRTWYVQATCATQGTGLYDGLDWLSHELSKR*</td>\n",
       "      <td>7</td>\n",
       "      <td>{}</td>\n",
       "      <td>NaN</td>\n",
       "      <td>42;87</td>\n",
       "      <td>127591047;127591213</td>\n",
       "      <td>127591299</td>\n",
       "      <td>NaN</td>\n",
       "      <td>2;0</td>\n",
       "      <td>3</td>\n",
       "      <td>...</td>\n",
       "      <td>NaN</td>\n",
       "      <td>57b05bc25da454400493cf3076e23702d8b1e50d2c7eae...</td>\n",
       "      <td>7_127591047_127591299_+_127591047;127591213_42;87</td>\n",
       "      <td>0;0</td>\n",
       "      <td>NaN</td>\n",
       "      <td>NaN</td>\n",
       "      <td>127591047</td>\n",
       "      <td>+</td>\n",
       "      <td>NaN</td>\n",
       "      <td>-1</td>\n",
       "    </tr>\n",
       "    <tr>\n",
       "      <th>3</th>\n",
       "      <td>LFHSLGRGRPGQDSASVAALLPEHSGPHLCGGQ*</td>\n",
       "      <td>7</td>\n",
       "      <td>{}</td>\n",
       "      <td>NaN</td>\n",
       "      <td>76;26</td>\n",
       "      <td>127589519;127590066</td>\n",
       "      <td>127590091</td>\n",
       "      <td>NaN</td>\n",
       "      <td>1;1</td>\n",
       "      <td>4</td>\n",
       "      <td>...</td>\n",
       "      <td>NaN</td>\n",
       "      <td>eb0e7b5f8f5e8e63eb5c50febe977b517051dd6d57fda3...</td>\n",
       "      <td>7_127589519_127590091_+_127589519;127590066_76;26</td>\n",
       "      <td>0;2</td>\n",
       "      <td>NaN</td>\n",
       "      <td>NaN</td>\n",
       "      <td>127589519</td>\n",
       "      <td>+</td>\n",
       "      <td>NaN</td>\n",
       "      <td>-1</td>\n",
       "    </tr>\n",
       "    <tr>\n",
       "      <th>4</th>\n",
       "      <td>VAALLPEHSGPHLCGGQ*</td>\n",
       "      <td>7</td>\n",
       "      <td>{}</td>\n",
       "      <td>NaN</td>\n",
       "      <td>28;26</td>\n",
       "      <td>127589567;127590066</td>\n",
       "      <td>127590091</td>\n",
       "      <td>NaN</td>\n",
       "      <td>1;1</td>\n",
       "      <td>5</td>\n",
       "      <td>...</td>\n",
       "      <td>NaN</td>\n",
       "      <td>9ea89988ccd07a4b261d4cd5f102f382556ae710f4f1b4...</td>\n",
       "      <td>7_127589567_127590091_+_127589567;127590066_28;26</td>\n",
       "      <td>0;2</td>\n",
       "      <td>NaN</td>\n",
       "      <td>NaN</td>\n",
       "      <td>127589567</td>\n",
       "      <td>+</td>\n",
       "      <td>NaN</td>\n",
       "      <td>-1</td>\n",
       "    </tr>\n",
       "  </tbody>\n",
       "</table>\n",
       "<p>5 rows × 21 columns</p>\n",
       "</div>"
      ],
      "text/plain": [
       "                                          orf.aa_seq  orf.assembly_id  \\\n",
       "0       LGTEGSTLLPAGTYGRGFLAKAPSSRGGAGIWVSFFFSVLGVL*                7   \n",
       "1  MPGSSCVHPRDDQTPGLLRQCPFLPLFLPHSHRPLLLLLPACSLCC...                7   \n",
       "2        LTDKLGLQHLRSRTWYVQATCATQGTGLYDGLDWLSHELSKR*                7   \n",
       "3                 LFHSLGRGRPGQDSASVAALLPEHSGPHLCGGQ*                7   \n",
       "4                                 VAALLPEHSGPHLCGGQ*                7   \n",
       "\n",
       "  orf.attrs  orf.benchling_id orf.block_sizes     orf.chrom_starts    orf.end  \\\n",
       "0        {}               NaN             132            127591480  127591611   \n",
       "1        {}               NaN             291            127591321  127591611   \n",
       "2        {}               NaN           42;87  127591047;127591213  127591299   \n",
       "3        {}               NaN           76;26  127589519;127590066  127590091   \n",
       "4        {}               NaN           28;26  127589567;127590066  127590091   \n",
       "\n",
       "   orf.ensembl_protein_id orf.exon_frames  orf.id  ... orf.openprot_id  \\\n",
       "0                     NaN               0       1  ...             NaN   \n",
       "1                     NaN               0       2  ...             NaN   \n",
       "2                     NaN             2;0       3  ...             NaN   \n",
       "3                     NaN             1;1       4  ...             NaN   \n",
       "4                     NaN             1;1       5  ...             NaN   \n",
       "\n",
       "                                         orf.orf_idx  \\\n",
       "0  19656c0da301cdbb92afccd2719021feb59d205061bada...   \n",
       "1  f24235d57bee8193454db191a2bf8927ae9af5055c90be...   \n",
       "2  57b05bc25da454400493cf3076e23702d8b1e50d2c7eae...   \n",
       "3  eb0e7b5f8f5e8e63eb5c50febe977b517051dd6d57fda3...   \n",
       "4  9ea89988ccd07a4b261d4cd5f102f382556ae710f4f1b4...   \n",
       "\n",
       "                                     orf.orf_idx_str orf.phases  \\\n",
       "0              7_127591480_127591611_+_127591480_132          0   \n",
       "1              7_127591321_127591611_+_127591321_291          0   \n",
       "2  7_127591047_127591299_+_127591047;127591213_42;87        0;0   \n",
       "3  7_127589519_127590091_+_127589519;127590066_76;26        0;2   \n",
       "4  7_127589567_127590091_+_127589567;127590066_28;26        0;2   \n",
       "\n",
       "  orf.refseq_protein_id  orf.secondary_orf_id  orf.start  orf.strand  \\\n",
       "0                   NaN                   NaN  127591480           +   \n",
       "1                   NaN                   NaN  127591321           +   \n",
       "2                   NaN                   NaN  127591047           +   \n",
       "3                   NaN                   NaN  127589519           +   \n",
       "4                   NaN                   NaN  127589567           +   \n",
       "\n",
       "  orf.uniprot_id  orf.velia_id  \n",
       "0            NaN            -1  \n",
       "1            NaN            -1  \n",
       "2            NaN            -1  \n",
       "3            NaN            -1  \n",
       "4            NaN            -1  \n",
       "\n",
       "[5 rows x 21 columns]"
      ]
     },
     "execution_count": 6,
     "metadata": {},
     "output_type": "execute_result"
    }
   ],
   "source": [
    "orfs_df.head()"
   ]
  },
  {
   "cell_type": "code",
   "execution_count": 7,
   "id": "0c38cfe1-85dd-4f90-8c0c-df95aad6b259",
   "metadata": {},
   "outputs": [
    {
     "data": {
      "text/plain": [
       "orf.aa_seq                     LGTEGSTLLPAGTYGRGFLAKAPSSRGGAGIWVSFFFSVLGVL*\n",
       "orf.assembly_id                                                           7\n",
       "orf.attrs                                                                {}\n",
       "orf.benchling_id                                                        NaN\n",
       "orf.block_sizes                                                         132\n",
       "orf.chrom_starts                                                  127591480\n",
       "orf.end                                                           127591611\n",
       "orf.ensembl_protein_id                                                  NaN\n",
       "orf.exon_frames                                                           0\n",
       "orf.id                                                                    1\n",
       "orf.nt_seq                CTGGGCACAGAGGGGTCCACTCTCCTGCCTGCTGGGACCTATGGAA...\n",
       "orf.openprot_id                                                         NaN\n",
       "orf.orf_idx               19656c0da301cdbb92afccd2719021feb59d205061bada...\n",
       "orf.orf_idx_str                       7_127591480_127591611_+_127591480_132\n",
       "orf.phases                                                                0\n",
       "orf.refseq_protein_id                                                   NaN\n",
       "orf.secondary_orf_id                                                    NaN\n",
       "orf.start                                                         127591480\n",
       "orf.strand                                                                +\n",
       "orf.uniprot_id                                                          NaN\n",
       "orf.velia_id                                                             -1\n",
       "Name: 0, dtype: object"
      ]
     },
     "execution_count": 7,
     "metadata": {},
     "output_type": "execute_result"
    }
   ],
   "source": [
    "orfs_df.iloc[0]"
   ]
  },
  {
   "cell_type": "code",
   "execution_count": 10,
   "id": "5fe007b1-4a51-49d4-b124-7abeeb016be0",
   "metadata": {},
   "outputs": [],
   "source": [
    "orfs_df['orf_len.aa'] = [len(aa_seq) for aa_seq in orfs_df['orf.aa_seq']]"
   ]
  },
  {
   "cell_type": "code",
   "execution_count": 13,
   "id": "516522df-7e78-4f5c-939f-67cd1e29ed67",
   "metadata": {},
   "outputs": [
    {
     "data": {
      "text/plain": [
       "<Axes: xlabel='orf_len.aa', ylabel='Density'>"
      ]
     },
     "execution_count": 13,
     "metadata": {},
     "output_type": "execute_result"
    },
    {
     "data": {
      "image/png": "[encoded data removed]",
      "text/plain": [
       "<Figure size 640x480 with 1 Axes>"
      ]
     },
     "metadata": {},
     "output_type": "display_data"
    }
   ],
   "source": [
    "sns.kdeplot(orfs_df['orf_len.aa'])"
   ]
  },
  {
   "cell_type": "code",
   "execution_count": 14,
   "id": "3c998fff-8b8a-4fd2-8788-4ae2ff390a77",
   "metadata": {},
   "outputs": [
    {
     "data": {
      "text/plain": [
       "13210490"
      ]
     },
     "execution_count": 14,
     "metadata": {},
     "output_type": "execute_result"
    }
   ],
   "source": [
    "orfs_df.shape[0]"
   ]
  },
  {
   "cell_type": "code",
   "execution_count": null,
   "id": "6de3f987-aac6-414e-8c99-5e13e5ddf9b1",
   "metadata": {},
   "outputs": [],
   "source": [
    "tr"
   ]
  }
 ],
 "metadata": {
  "kernelspec": {
   "display_name": "ai",
   "language": "python",
   "name": "ai"
  },
  "language_info": {
   "codemirror_mode": {
    "name": "ipython",
    "version": 3
   },
   "file_extension": ".py",
   "mimetype": "text/x-python",
   "name": "python",
   "nbconvert_exporter": "python",
   "pygments_lexer": "ipython3",
   "version": "3.12.10"
  }
 },
 "nbformat": 4,
 "nbformat_minor": 5
}
